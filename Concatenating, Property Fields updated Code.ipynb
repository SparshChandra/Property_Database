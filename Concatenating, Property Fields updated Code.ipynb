{
 "cells": [
  {
   "cell_type": "code",
   "execution_count": 25,
   "id": "63c18535",
   "metadata": {},
   "outputs": [],
   "source": [
    "import pandas\n",
    "import pandas as pd\n",
    "df = pd.read_csv(r'nearby_9052_Sterling-_673_Final.csv')\n",
    "df\n",
    "df.rename(columns={\"Owner 1 First Name\": \"First_Name\"}, inplace=True)\n",
    "df.rename(columns={\"Owner 1 Last Name\": \"Last_Name\"}, inplace=True)\n",
    "df.rename(columns={\"Owner 1 Email Addresses\": \"Email\"}, inplace=True)\n",
    "df.rename(columns={\"Owner 1 Phone Numbers\": \"Phone_Number\"}, inplace=True)\n",
    "df.rename(columns={\"Property Address\": \"Relationship_to_Property\"}, inplace=True)\n",
    "df.rename(columns={\"Mailing Address\": \"street\"}, inplace=True)\n",
    "df.rename(columns={\"Mailing City\": \"City\"}, inplace=True)\n",
    "df.rename(columns={\"Mailing State\": \"State\"}, inplace=True)\n",
    "df.rename(columns={\"ZIP 5\": \"Zipcode\"}, inplace=True)\n",
    "df.rename(columns={\"Mailing ZIP 5\": \"zipcode\"}, inplace=True)\n",
    "df\n",
    "new=df[['First_Name', 'Last_Name','Email','Phone_Number', 'Relationship_to_Property','street','City','State','Zipcode']]\n",
    "new\n",
    "new_id=new.dropna(subset=['First_Name', 'Last_Name','Email','Phone_Number'])\n",
    "new_id\n",
    "new_id.to_csv('nearby_9052_Sterling-_673_Final.csv', index=False)"
   ]
  },
  {
   "cell_type": "code",
   "execution_count": null,
   "id": "d0ef23fa",
   "metadata": {},
   "outputs": [],
   "source": [
    "import pandas as pd\n",
    "\n",
    "# read the CSV file into a DataFrame\n",
    "df = pd.read_csv('nearby_9052_Sterling-_673_Final.csv')\n",
    "\n",
    "# concatenate the columns into a new column 'Address'\n",
    "df['Address'] = df.apply(lambda row: row['Relationship_to_Property'] + ' ' + row['City'] + ' ' + row['State'] + ' ' + row['street'] + ' ' + str(row['Zipcode']), axis=1)\n",
    "\n",
    "# select only the desired columns\n",
    "new_df = df[['First_Name', 'Last_Name', 'Email', 'Phone_Number', 'Address']]\n",
    "\n",
    "# remove rows with missing values in the selected columns\n",
    "new_df = new_df.dropna(subset=['First_Name', 'Last_Name', 'Email', 'Phone_Number', 'Address'])\n",
    "\n",
    "# save the updated DataFrame to a new CSV file\n",
    "new_df.to_csv('nearby_9052_Sterling-_673_Final.csv', index=False)\n"
   ]
  },
  {
   "cell_type": "code",
   "execution_count": 24,
   "id": "e65037b0",
   "metadata": {},
   "outputs": [],
   "source": [
    "import pandas\n",
    "import pandas as pd\n",
    "df = pd.read_csv(r'nearby_9052_Sterling-_673_Final.csv')\n",
    "df\n",
    "df.rename(columns={\"Owner 1 First Name\": \"First_Name\"}, inplace=True)\n",
    "df.rename(columns={\"Owner 1 Last Name\": \"Last_Name\"}, inplace=True)\n",
    "df.rename(columns={\"Owner 1 Email Addresses\": \"Email\"}, inplace=True)\n",
    "df.rename(columns={\"Owner 1 Phone Numbers\": \"Phone_Number\"}, inplace=True)\n",
    "df.rename(columns={\"Property Address\": \"Relationship_to_Property\"}, inplace=True)\n",
    "df.rename(columns={\"Mailing Address\": \"street\"}, inplace=True)\n",
    "df.rename(columns={\"Mailing City\": \"City\"}, inplace=True)\n",
    "df.rename(columns={\"Mailing State\": \"State\"}, inplace=True)\n",
    "df.rename(columns={\"ZIP 5\": \"Zipcode\"}, inplace=True)\n",
    "df.rename(columns={\"Mailing ZIP 5\": \"zipcode\"}, inplace=True)\n",
    "df\n",
    "new=df[['First_Name', 'Last_Name','Email','Phone_Number', 'Relationship_to_Property','street','City','State','Zipcode','zipcode']]\n",
    "new\n",
    "new_id=new.dropna(subset=['First_Name', 'Last_Name','Email','Phone_Number'])\n",
    "new_id\n",
    "new_id.to_csv('nearby_9052_Sterling-_673_Final.csv', index=False)"
   ]
  },
  {
   "cell_type": "code",
   "execution_count": null,
   "id": "b24c91cf",
   "metadata": {},
   "outputs": [],
   "source": []
  }
 ],
 "metadata": {
  "kernelspec": {
   "display_name": "Python 3 (ipykernel)",
   "language": "python",
   "name": "python3"
  },
  "language_info": {
   "codemirror_mode": {
    "name": "ipython",
    "version": 3
   },
   "file_extension": ".py",
   "mimetype": "text/x-python",
   "name": "python",
   "nbconvert_exporter": "python",
   "pygments_lexer": "ipython3",
   "version": "3.9.13"
  }
 },
 "nbformat": 4,
 "nbformat_minor": 5
}
